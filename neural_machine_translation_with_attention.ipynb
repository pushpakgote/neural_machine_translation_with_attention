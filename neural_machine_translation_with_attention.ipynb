{
 "cells": [
  {
   "cell_type": "markdown",
   "id": "c9607333-5a99-49fe-be15-220f78f4e926",
   "metadata": {
    "id": "adTDe2CTh3MU"
   },
   "source": [
    "# Neural Machine Translation\n",
    "\n",
    "* We will build a Neural Machine Translation (NMT) model to translate human-readable dates (\"25th of June, 2009\") into machine-readable dates (\"2009-06-25\"). \n",
    "* We will do this using an attention model, one of the most sophisticated sequence-to-sequence models. \n"
   ]
  },
  {
   "cell_type": "code",
   "execution_count": 1,
   "id": "f0489d19-b513-4998-92e5-43cc995ccef3",
   "metadata": {},
   "outputs": [
    {
     "name": "stdout",
     "output_type": "stream",
     "text": [
      "Requirement already satisfied: faker in /opt/conda/lib/python3.10/site-packages (16.6.1)\n",
      "Requirement already satisfied: python-dateutil>=2.4 in /opt/conda/lib/python3.10/site-packages (from faker) (2.8.2)\n",
      "Requirement already satisfied: six>=1.5 in /opt/conda/lib/python3.10/site-packages (from python-dateutil>=2.4->faker) (1.16.0)\n"
     ]
    }
   ],
   "source": [
    "!pip install faker"
   ]
  },
  {
   "cell_type": "code",
   "execution_count": null,
   "id": "d7cf629e-a3cb-4f00-89f9-38cc5bd2cbc9",
   "metadata": {
    "colab": {
     "base_uri": "https://localhost:8080/"
    },
    "executionInfo": {
     "elapsed": 14508,
     "status": "ok",
     "timestamp": 1612468511651,
     "user": {
      "displayName": "Mubsi K",
      "photoUrl": "https://lh3.googleusercontent.com/a-/AOh14Gip7OjOkdNkKxKDyWEQAq1o8ccGN_HrBTGdqjgQ=s64",
      "userId": "08094225471505108399"
     },
     "user_tz": -300
    },
    "id": "RcBRMzPiiMmp",
    "outputId": "17e9a429-5bb6-4401-a23a-f8f756d6113d"
   },
   "outputs": [],
   "source": [
    "from tensorflow.keras.layers import Bidirectional, Concatenate, Permute, Dot, Input, LSTM, Multiply\n",
    "from tensorflow.keras.layers import RepeatVector, Dense, Activation, Lambda\n",
    "from tensorflow.keras.optimizers import Adam\n",
    "from tensorflow.keras.utils import to_categorical\n",
    "from tensorflow.keras.models import load_model, Model\n",
    "import tensorflow.keras.backend as K\n",
    "import tensorflow as tf\n",
    "import numpy as np\n",
    "\n",
    "from faker import Faker\n",
    "import random\n",
    "from tqdm import tqdm\n",
    "from babel.dates import format_date\n",
    "import matplotlib.pyplot as plt\n",
    "%matplotlib inline"
   ]
  },
  {
   "cell_type": "code",
   "execution_count": 3,
   "id": "cabba60d-6a3d-4cbd-8c53-8aba2114ef52",
   "metadata": {},
   "outputs": [],
   "source": [
    "FORMATS = ['short',\n",
    "           'medium',\n",
    "           'long',\n",
    "           'full',\n",
    "           'full',\n",
    "           'full',\n",
    "           'full',\n",
    "           'full',\n",
    "           'full',\n",
    "           'full',\n",
    "           'full',\n",
    "           'full',\n",
    "           'full',\n",
    "           'd MMM YYY', \n",
    "           'd MMMM YYY',\n",
    "           'dd MMM YYY',\n",
    "           'd MMM, YYY',\n",
    "           'd MMMM, YYY',\n",
    "           'dd, MMM YYY',\n",
    "           'd MM YY',\n",
    "           'd MMMM YYY',\n",
    "           'MMMM d YYY',\n",
    "           'MMMM d, YYY',\n",
    "           'dd.MM.YY']"
   ]
  },
  {
   "cell_type": "markdown",
   "id": "0c45c5bd-def0-4e14-8771-8c139cfc89d8",
   "metadata": {},
   "source": [
    "## Generating dataset"
   ]
  },
  {
   "cell_type": "code",
   "execution_count": 4,
   "id": "feeb0570-6c85-4866-838e-74e39b2d9daf",
   "metadata": {},
   "outputs": [],
   "source": [
    "def load_date():\n",
    "    \"\"\"\n",
    "        Loads some fake dates \n",
    "        :returns: tuple containing human readable string, machine readable string, and date object\n",
    "    \"\"\"\n",
    "    fake=Faker()\n",
    "    dt=fake.date_object()\n",
    "    try:\n",
    "        human_readable=format_date(dt,format=random.choice(FORMATS))\n",
    "        human_readable=human_readable.lower().replace(',','')\n",
    "        machine_readable=dt.isoformat()\n",
    "    except:\n",
    "        return None,None,None\n",
    "    return human_readable,machine_readable,dt"
   ]
  },
  {
   "cell_type": "code",
   "execution_count": 5,
   "id": "a191a92d-0108-4ba9-b552-2ddd329ab6a5",
   "metadata": {},
   "outputs": [],
   "source": [
    "def load_dataset(m):\n",
    "    \"\"\"\n",
    "        Loads a dataset with m examples and vocabularies\n",
    "        :m: the number of examples to generate\n",
    "    \"\"\"\n",
    "\n",
    "    dataset=[]\n",
    "    human_vocab=set()\n",
    "    machine_vocab=set()\n",
    "\n",
    "    for i in tqdm(range(m)):\n",
    "        h,m,_=load_date()\n",
    "        if h is not None:\n",
    "            dataset.append((h,m))\n",
    "            human_vocab.update(tuple(h))\n",
    "            machine_vocab.update(tuple(m))\n",
    "\n",
    "    #human_vocab=human_vocab+['<unk>', '<pad>']\n",
    "    human=dict( zip( sorted(human_vocab)+['<unk>', '<pad>'] , list(range(len(human_vocab)+2)) ) )\n",
    "\n",
    "    inv_machine=dict(enumerate(sorted(machine_vocab)))\n",
    "    machine = {v:k for k,v in inv_machine.items()}\n",
    "\n",
    "    return dataset,human,machine,inv_machine"
   ]
  },
  {
   "cell_type": "markdown",
   "id": "e555bfdf-e396-41ae-b0bc-fddef675e2ff",
   "metadata": {
    "id": "J0pkH-k0h3Mf"
   },
   "source": [
    "<a name='1'></a>\n",
    "## 1 - Translating Human Readable Dates Into Machine Readable Dates\n",
    "\n",
    "* The model you will build here could be used to translate from one language to another, such as translating from English to Hindi. \n",
    "* However, language translation requires massive datasets and usually takes days of training on GPUs. \n",
    "* To give you a place to experiment with these models without using massive datasets, we will perform a simpler \"date translation\" task. \n",
    "* The network will input a date written in a variety of possible formats (*e.g. \"the 29th of August 1958\", \"03/30/1968\", \"24 JUNE 1987\"*) \n",
    "* The network will translate them into standardized, machine readable dates (*e.g. \"1958-08-29\", \"1968-03-30\", \"1987-06-24\"*). \n",
    "* We will have the network learn to output dates in the common machine-readable format YYYY-MM-DD. \n",
    "\n",
    "<!-- \n",
    "Take a look at [nmt_utils.py](./nmt_utils.py) to see all the formatting. Count and figure out how the formats work, you will need this knowledge later. !--> "
   ]
  },
  {
   "cell_type": "code",
   "execution_count": 6,
   "id": "97f63303-5c0a-4eb6-8689-39495c79c88e",
   "metadata": {},
   "outputs": [],
   "source": [
    "m = 10000\n",
    "#dataset, human_vocab, machine_vocab, inv_machine_vocab = load_dataset(m)"
   ]
  },
  {
   "cell_type": "markdown",
   "id": "4a66bc9a-ffed-4566-8087-6e0fb9c6835f",
   "metadata": {},
   "source": [
    "### Save data as generating data takes much time"
   ]
  },
  {
   "cell_type": "code",
   "execution_count": 7,
   "id": "a164cedd-c7ce-41b1-a96a-2a33e4277f34",
   "metadata": {},
   "outputs": [],
   "source": [
    "#import json\n",
    "#with open('data.json', 'w') as f:\n",
    "#    json.dump(dataset, f)"
   ]
  },
  {
   "cell_type": "markdown",
   "id": "c69ec5c4-bdac-45af-bda2-f298981611ef",
   "metadata": {},
   "source": [
    "### Load data if already saved"
   ]
  },
  {
   "cell_type": "code",
   "execution_count": 8,
   "id": "da9fbb78-7138-4d50-b255-edb462848145",
   "metadata": {},
   "outputs": [],
   "source": [
    "import json\n",
    "with open('data.json') as f:\n",
    "    dataset = json.load(f)"
   ]
  },
  {
   "cell_type": "code",
   "execution_count": 9,
   "id": "8ab01522-6247-4325-9d14-c9c720e94dc5",
   "metadata": {},
   "outputs": [],
   "source": [
    "human_vocab=set()\n",
    "machine_vocab=set()\n",
    "\n",
    "for h,m in dataset:\n",
    "    if h is not None:\n",
    "        human_vocab.update(tuple(h))\n",
    "        machine_vocab.update(tuple(m))\n",
    "        \n",
    "human_vocab=dict( zip( sorted(human_vocab)+['<unk>', '<pad>'] , list(range(len(human_vocab)+2)) ) )\n",
    "\n",
    "inv_machine_vocab=dict(enumerate(sorted(machine_vocab)))\n",
    "machine_vocab = {v:k for k,v in inv_machine_vocab.items()}"
   ]
  },
  {
   "cell_type": "code",
   "execution_count": 10,
   "id": "ccf01d0b-01ca-4a6f-90cb-cb8d36c36c7c",
   "metadata": {},
   "outputs": [
    {
     "data": {
      "text/plain": [
       "[['wednesday march 6 2019', '2019-03-06'],\n",
       " ['march 5 1987', '1987-03-05'],\n",
       " ['monday june 14 2010', '2010-06-14'],\n",
       " ['29 apr 2001', '2001-04-29'],\n",
       " ['2 12 11', '2011-12-02'],\n",
       " ['30.01.75', '1975-01-30'],\n",
       " ['10 july 1981', '1981-07-10'],\n",
       " ['11 november 2020', '2020-11-11'],\n",
       " ['sunday september 10 2000', '2000-09-10'],\n",
       " ['sunday may 5 1985', '1985-05-05']]"
      ]
     },
     "execution_count": 10,
     "metadata": {},
     "output_type": "execute_result"
    }
   ],
   "source": [
    "dataset[:10]"
   ]
  },
  {
   "cell_type": "code",
   "execution_count": 11,
   "id": "cf92cabd-d5b4-47b4-990d-c322b1579fbc",
   "metadata": {},
   "outputs": [
    {
     "data": {
      "text/plain": [
       "{' ': 0,\n",
       " '.': 1,\n",
       " '/': 2,\n",
       " '0': 3,\n",
       " '1': 4,\n",
       " '2': 5,\n",
       " '3': 6,\n",
       " '4': 7,\n",
       " '5': 8,\n",
       " '6': 9,\n",
       " '7': 10,\n",
       " '8': 11,\n",
       " '9': 12,\n",
       " 'a': 13,\n",
       " 'b': 14,\n",
       " 'c': 15,\n",
       " 'd': 16,\n",
       " 'e': 17,\n",
       " 'f': 18,\n",
       " 'g': 19,\n",
       " 'h': 20,\n",
       " 'i': 21,\n",
       " 'j': 22,\n",
       " 'l': 23,\n",
       " 'm': 24,\n",
       " 'n': 25,\n",
       " 'o': 26,\n",
       " 'p': 27,\n",
       " 'r': 28,\n",
       " 's': 29,\n",
       " 't': 30,\n",
       " 'u': 31,\n",
       " 'v': 32,\n",
       " 'w': 33,\n",
       " 'y': 34,\n",
       " '<unk>': 35,\n",
       " '<pad>': 36}"
      ]
     },
     "execution_count": 11,
     "metadata": {},
     "output_type": "execute_result"
    }
   ],
   "source": [
    "human_vocab"
   ]
  },
  {
   "cell_type": "markdown",
   "id": "641a00e6-e18f-43ab-996e-73b615d1709d",
   "metadata": {
    "id": "ao4Ffrkxh3Mg"
   },
   "source": [
    "You've loaded:\n",
    "- `dataset`: a list of tuples of (human readable date, machine readable date).\n",
    "- `human_vocab`: a python dictionary mapping all characters used in the human readable dates to an integer-valued index.\n",
    "- `machine_vocab`: a python dictionary mapping all characters used in machine readable dates to an integer-valued index. \n",
    "    - **Note**: These indices are not necessarily consistent with `human_vocab`. \n",
    "- `inv_machine_vocab`: the inverse dictionary of `machine_vocab`, mapping from indices back to characters. \n",
    "\n",
    "Let's preprocess the data and map the raw text data into the index values. \n",
    "- We will set Tx=30 \n",
    "    - We assume Tx is the maximum length of the human readable date.\n",
    "    - If we get a longer input, we would have to truncate it.\n",
    "- We will set Ty=10\n",
    "    - \"YYYY-MM-DD\" is 10 characters long."
   ]
  },
  {
   "cell_type": "code",
   "execution_count": 12,
   "id": "1563b2b6-24f0-40ab-9e4e-9594d5d6c158",
   "metadata": {},
   "outputs": [
    {
     "name": "stdout",
     "output_type": "stream",
     "text": [
      "Max len of human readable data : 27\n"
     ]
    }
   ],
   "source": [
    "max_len=0\n",
    "for i in range(len(dataset)):\n",
    "    l=len(dataset[i][0])\n",
    "    if l >max_len:\n",
    "        max_len=l\n",
    "print(\"Max len of human readable data :\",max_len)"
   ]
  },
  {
   "cell_type": "code",
   "execution_count": 13,
   "id": "7740db02-c854-40fb-9145-4f37aec43bf9",
   "metadata": {},
   "outputs": [],
   "source": [
    "def string_to_int(string, length, vocab):\n",
    "    \"\"\"\n",
    "    Converts all strings in the vocabulary into a list of integers representing the positions of the\n",
    "    input string's characters in the \"vocab\"\n",
    "    \n",
    "    Arguments:\n",
    "    string -- input string, e.g. 'Wed 10 Jul 2007'\n",
    "    length -- the number of time steps you'd like, determines if the output will be padded or cut\n",
    "    vocab -- vocabulary, dictionary used to index every character of your \"string\"\n",
    "    \n",
    "    Returns:\n",
    "    rep -- list of integers (or '<unk>') (size = length) representing the position of the string's character in the vocabulary\n",
    "    \"\"\"\n",
    "    \n",
    "    string=string.lower().replace(',','')\n",
    "    \n",
    "    if len(string)>length:\n",
    "        string=string[:length]\n",
    "    \n",
    "    #map iterates over string and gives each string character as input to lambda func , after all iterations convert result to list\n",
    "    if '<unk>' in vocab:\n",
    "        rep=list( map(lambda x: vocab.get(x,vocab['<unk>']), string ) )\n",
    "    else:\n",
    "        rep=list( map(lambda x: vocab.get(x), string ) )\n",
    "    \n",
    "    #adding <pad> indices to remaining timestamps\n",
    "    if len(string)<length:\n",
    "        rep+= [vocab['<pad>']] * (length-len(string))\n",
    "    \n",
    "    return rep"
   ]
  },
  {
   "cell_type": "code",
   "execution_count": 14,
   "id": "07e4bfac-096f-4c93-b6dc-e08a25e0cfff",
   "metadata": {},
   "outputs": [],
   "source": [
    "def preprocess_data(dataset, human_vocab, machine_vocab, Tx, Ty):\n",
    "    '''\n",
    "    Converts dataset into indices format and one_hot encoding format\n",
    "    \n",
    "    Arguments:\n",
    "    dataset: generated dataset with each line containing human readable format and machine format\n",
    "    human_vocab: dictionary with human_vocab characters to indices pairs\n",
    "    machine_vocab: dictionary with machine_vocab characters to indices pairs\n",
    "    Tx: Total input timesteps\n",
    "    Ty: Total output timesteps\n",
    "    \n",
    "    Returns:\n",
    "    X: human readable format in indices format\n",
    "    Y: machine format in indices format\n",
    "    Xoh: human readable format in ohe hot encoding format\n",
    "    Yoh: machine format in ohe hot encoding format\n",
    "    '''\n",
    "    \n",
    "    X,Y=zip(*dataset)\n",
    "    X=np.array([string_to_int(i,Tx,human_vocab) for i in X ])\n",
    "    Y=np.array([string_to_int(t,Ty,machine_vocab) for t in Y ])\n",
    "    #Y=[string_to_int(t,Ty,human_vocab) for t in Y ]\n",
    "    \n",
    "    Xoh=np.array( list( map( lambda x:to_categorical(x,num_classes=len(human_vocab))   , X ) ) )\n",
    "    Yoh=np.array( list( map( lambda x:to_categorical(x,num_classes=len(machine_vocab)) , Y ) ) )\n",
    "    \n",
    "    return X,Y,Xoh,Yoh\n",
    "    #return X,Y"
   ]
  },
  {
   "cell_type": "code",
   "execution_count": 15,
   "id": "74a40b0a-863f-4c80-aa7e-ea7b444d92a8",
   "metadata": {},
   "outputs": [
    {
     "name": "stdout",
     "output_type": "stream",
     "text": [
      "X.shape: (10000, 30)\n",
      "Y.shape: (10000, 10)\n",
      "Xoh.shape: (10000, 30, 37)\n",
      "Yoh.shape: (10000, 10, 11)\n"
     ]
    }
   ],
   "source": [
    "Tx = 30\n",
    "Ty = 10\n",
    "X, Y, Xoh, Yoh = preprocess_data(dataset, human_vocab, machine_vocab, Tx, Ty)\n",
    "\n",
    "print(\"X.shape:\", X.shape)\n",
    "print(\"Y.shape:\", Y.shape)\n",
    "print(\"Xoh.shape:\", Xoh.shape)\n",
    "print(\"Yoh.shape:\", Yoh.shape)"
   ]
  },
  {
   "cell_type": "markdown",
   "id": "92ae5ee4-93d2-4878-9c31-4fb8236a8e18",
   "metadata": {
    "id": "q9C0UY25h3Mh"
   },
   "source": [
    "We have:\n",
    "- `X`: a processed version of the human readable dates in the training set.\n",
    "    - Each character in X is replaced by an index (integer) mapped to the character using `human_vocab`. \n",
    "    - Each date is padded to ensure a length of $T_x$ using a special character (< pad >). \n",
    "    - `X.shape = (m, Tx)` where m is the number of training examples in a batch.\n",
    "- `Y`: a processed version of the machine readable dates in the training set.\n",
    "    - Each character is replaced by the index (integer) it is mapped to in `machine_vocab`. \n",
    "    - `Y.shape = (m, Ty)`. \n",
    "- `Xoh`: one-hot version of `X`\n",
    "    - Each index in `X` is converted to the one-hot representation (if the index is 2, the one-hot version has the index position 2 set to 1, and the remaining positions are 0.\n",
    "    - `Xoh.shape = (m, Tx, len(human_vocab))`\n",
    "- `Yoh`: one-hot version of `Y`\n",
    "    - Each index in `Y` is converted to the one-hot representation. \n",
    "    - `Yoh.shape = (m, Ty, len(machine_vocab))`. \n",
    "    - `len(machine_vocab) = 11` since there are 10 numeric digits (0 to 9) and the `-` symbol."
   ]
  },
  {
   "cell_type": "markdown",
   "id": "26136cb4-61d2-42e3-a7d6-52bb0052a64f",
   "metadata": {},
   "source": [
    "* Let's also look at some examples of preprocessed training examples. "
   ]
  },
  {
   "cell_type": "code",
   "execution_count": 16,
   "id": "fdba383e-26e4-4659-aa5e-e1c26b70d992",
   "metadata": {},
   "outputs": [
    {
     "name": "stdout",
     "output_type": "stream",
     "text": [
      "Source date: wednesday march 6 2019\n",
      "Target date: 2019-03-06\n",
      "\n",
      "Source after preprocessing (indices): [33 17 16 25 17 29 16 13 34  0 24 13 28 15 20  0  9  0  5  3  4 12 36 36\n",
      " 36 36 36 36 36 36]\n",
      "Target after preprocessing (indices): [ 3  1  2 10  0  1  4  0  1  7]\n",
      "\n",
      "Source after preprocessing (one-hot): [[0. 0. 0. ... 0. 0. 0.]\n",
      " [0. 0. 0. ... 0. 0. 0.]\n",
      " [0. 0. 0. ... 0. 0. 0.]\n",
      " ...\n",
      " [0. 0. 0. ... 0. 0. 1.]\n",
      " [0. 0. 0. ... 0. 0. 1.]\n",
      " [0. 0. 0. ... 0. 0. 1.]]\n",
      "Target after preprocessing (one-hot): [[0. 0. 0. 1. 0. 0. 0. 0. 0. 0. 0.]\n",
      " [0. 1. 0. 0. 0. 0. 0. 0. 0. 0. 0.]\n",
      " [0. 0. 1. 0. 0. 0. 0. 0. 0. 0. 0.]\n",
      " [0. 0. 0. 0. 0. 0. 0. 0. 0. 0. 1.]\n",
      " [1. 0. 0. 0. 0. 0. 0. 0. 0. 0. 0.]\n",
      " [0. 1. 0. 0. 0. 0. 0. 0. 0. 0. 0.]\n",
      " [0. 0. 0. 0. 1. 0. 0. 0. 0. 0. 0.]\n",
      " [1. 0. 0. 0. 0. 0. 0. 0. 0. 0. 0.]\n",
      " [0. 1. 0. 0. 0. 0. 0. 0. 0. 0. 0.]\n",
      " [0. 0. 0. 0. 0. 0. 0. 1. 0. 0. 0.]]\n"
     ]
    }
   ],
   "source": [
    "index = 0\n",
    "print(\"Source date:\", dataset[index][0])\n",
    "print(\"Target date:\", dataset[index][1])\n",
    "print()\n",
    "print(\"Source after preprocessing (indices):\", X[index])\n",
    "print(\"Target after preprocessing (indices):\", Y[index])\n",
    "print()\n",
    "print(\"Source after preprocessing (one-hot):\", Xoh[index])\n",
    "print(\"Target after preprocessing (one-hot):\", Yoh[index])"
   ]
  },
  {
   "cell_type": "markdown",
   "id": "1920a00a-da37-4574-a150-06a8300efe4c",
   "metadata": {
    "id": "94o4RYbOh3Mi"
   },
   "source": [
    "<a name='2'></a>\n",
    "## 2 - Neural Machine Translation with Attention\n",
    "\n",
    "* If you had to translate a book's paragraph from French to English, you would not read the whole paragraph, then close the book and translate. \n",
    "* Even during the translation process, you would read/re-read and focus on the parts of the French paragraph corresponding to the parts of the English you are writing down. \n",
    "* The attention mechanism tells a Neural Machine Translation model where it should pay attention to at any step. \n",
    "\n",
    "<a name='2-1'></a>\n",
    "### 2.1 - Attention Mechanism\n",
    "\n",
    "* Here is a figure that shows how the model works. \n",
    "    * The diagram on the left shows the attention model. \n",
    "    * The diagram on the right shows what one \"attention\" step does to calculate the attention variables $\\alpha^{\\langle t, t' \\rangle}$.\n",
    "    * The attention variables $\\alpha^{\\langle t, t' \\rangle}$ are used to compute the context variable $context^{\\langle t \\rangle}$ for each timestep in the output ($t=1, \\ldots, T_y$). \n",
    "\n",
    "<table>\n",
    "<td> \n",
    "<img src=\"images/attn_model.png\" style=\"width:500;height:500px;\"> <br>\n",
    "</td> \n",
    "<td> \n",
    "<img src=\"images/attn_mechanism.png\" style=\"width:500;height:500px;\"> <br>\n",
    "</td> \n",
    "</table>\n",
    "<caption><center> ** Figure 1 **: Neural machine translation with attention</center></caption>\n"
   ]
  },
  {
   "cell_type": "markdown",
   "id": "4c3d900c-ec1f-4db1-9f5f-4b6fdaf1a78b",
   "metadata": {
    "id": "b2TkQnykh3Mi"
   },
   "source": [
    "Here are some properties of the model that you may notice: \n",
    "\n",
    "#### Pre-attention and Post-attention LSTMs on both sides of the attention mechanism\n",
    "- There are two separate LSTMs in this model (see diagram on the left): pre-attention and post-attention LSTMs.\n",
    "- *Pre-attention* Bi-LSTM is the one at the bottom of the picture is a Bi-directional LSTM and comes *before* the attention mechanism.\n",
    "    - The attention mechanism is shown in the middle of the left-hand diagram.\n",
    "    - The pre-attention Bi-LSTM goes through $T_x$ time steps\n",
    "- *Post-attention* LSTM: at the top of the diagram comes *after* the attention mechanism. \n",
    "    - The post-attention LSTM goes through $T_y$ time steps. \n",
    "\n",
    "- The post-attention LSTM passes the hidden state $s^{\\langle t \\rangle}$ and cell state $c^{\\langle t \\rangle}$ from one time step to the next. "
   ]
  },
  {
   "cell_type": "markdown",
   "id": "33ebbc58-2dc3-4f57-9c3c-697937f14a95",
   "metadata": {
    "id": "JpznWuWqh3Mi"
   },
   "source": [
    "#### An LSTM has both a hidden state and cell state\n",
    "* In the lecture videos, we were using only a basic RNN for the post-attention sequence model\n",
    "    * This means that the state captured by the RNN was outputting only the hidden state $s^{\\langle t\\rangle}$. \n",
    "* In this assignment, we are using an LSTM instead of a basic RNN.\n",
    "    * So the LSTM has both the hidden state $s^{\\langle t\\rangle}$ and the cell state $c^{\\langle t\\rangle}$. "
   ]
  },
  {
   "cell_type": "markdown",
   "id": "2b5d3f1b-3653-44ed-aa37-ca0d936534fb",
   "metadata": {
    "id": "85btUzl4h3Mj"
   },
   "source": [
    "#### Each time step does not use predictions from the previous time step\n",
    "* Unlike previous text generation examples earlier in the course, in this model, the post-attention LSTM at time $t$ does not take the previous time step's prediction $y^{\\langle t-1 \\rangle}$ as input.\n",
    "* The post-attention LSTM at time 't' only takes the hidden state $s^{\\langle t\\rangle}$ and cell state $c^{\\langle t\\rangle}$ as input. \n",
    "* We have designed the model this way because unlike language generation (where adjacent characters are highly correlated) there isn't as strong a dependency between the previous character and the next character in a YYYY-MM-DD date."
   ]
  },
  {
   "cell_type": "markdown",
   "id": "81b06e3b-f7b6-4f7c-8ec3-80b2aa756183",
   "metadata": {
    "id": "NYT3v7rUh3Mk"
   },
   "source": [
    "#### Concatenation of hidden states from the forward and backward pre-attention LSTMs\n",
    "- $\\overrightarrow{a}^{\\langle t \\rangle}$: hidden state of the forward-direction, pre-attention LSTM.\n",
    "- $\\overleftarrow{a}^{\\langle t \\rangle}$: hidden state of the backward-direction, pre-attention LSTM.\n",
    "- $a^{\\langle t \\rangle} = [\\overrightarrow{a}^{\\langle t \\rangle}, \\overleftarrow{a}^{\\langle t \\rangle}]$: the concatenation of the activations of both the forward-direction $\\overrightarrow{a}^{\\langle t \\rangle}$ and backward-directions $\\overleftarrow{a}^{\\langle t \\rangle}$ of the pre-attention Bi-LSTM. "
   ]
  },
  {
   "cell_type": "markdown",
   "id": "a1a056c9-0cbd-4ac5-8b18-e3091c3f1eeb",
   "metadata": {
    "id": "97GUKCqwh3Mk"
   },
   "source": [
    "#### Computing \"energies\" $e^{\\langle t, t' \\rangle}$ as a function of $s^{\\langle t-1 \\rangle}$ and $a^{\\langle t' \\rangle}$\n",
    "- Recall in the lesson videos \"Attention Model\", at time 6:45 to 8:16, the definition of \"e\" as a function of $s^{\\langle t-1 \\rangle}$ and $a^{\\langle t \\rangle}$.\n",
    "    - \"e\" is called the \"energies\" variable.\n",
    "    - $s^{\\langle t-1 \\rangle}$ is the hidden state of the post-attention LSTM\n",
    "    - $a^{\\langle t' \\rangle}$ is the hidden state of the pre-attention LSTM.\n",
    "    - $s^{\\langle t-1 \\rangle}$ and $a^{\\langle t \\rangle}$ are fed into a simple neural network, which learns the function to output $e^{\\langle t, t' \\rangle}$.\n",
    "    - $e^{\\langle t, t' \\rangle}$ is then used when computing the attention $a^{\\langle t, t' \\rangle}$ that $y^{\\langle t \\rangle}$ should pay to $a^{\\langle t' \\rangle}$."
   ]
  },
  {
   "cell_type": "markdown",
   "id": "578669e1-e30a-430f-a8c0-e90b39400bc9",
   "metadata": {
    "id": "scu_HnPNh3Mk"
   },
   "source": [
    "- The diagram on the right of figure 1 uses a `RepeatVector` node to copy $s^{\\langle t-1 \\rangle}$'s value $T_x$ times.\n",
    "- Then it uses `Concatenation` to concatenate $s^{\\langle t-1 \\rangle}$ and $a^{\\langle t \\rangle}$.\n",
    "- The concatenation of $s^{\\langle t-1 \\rangle}$ and $a^{\\langle t \\rangle}$ is fed into a \"Dense\" layer, which computes $e^{\\langle t, t' \\rangle}$. \n",
    "- $e^{\\langle t, t' \\rangle}$ is then passed through a softmax to compute $\\alpha^{\\langle t, t' \\rangle}$.\n",
    "- Note that the diagram doesn't explicitly show variable $e^{\\langle t, t' \\rangle}$, but $e^{\\langle t, t' \\rangle}$ is above the Dense layer and below the Softmax layer in the diagram in the right half of figure 1.\n",
    "- We'll explain how to use `RepeatVector` and `Concatenation` in Keras below. "
   ]
  },
  {
   "cell_type": "markdown",
   "id": "19fe5c2e-659a-46f8-bf9c-e797522c3a03",
   "metadata": {
    "id": "_ukmqe_Yh3Ml"
   },
   "source": [
    "#### Implementation Details\n",
    "   \n",
    "Let's implement this neural translator. You will start by implementing two functions: `one_step_attention()` and `model()`.\n",
    "\n",
    "#### one_step_attention\n",
    "* The inputs to the one_step_attention at time step $t$ are:\n",
    "    - $[a^{<1>},a^{<2>}, ..., a^{<T_x>}]$: all hidden states of the pre-attention Bi-LSTM.\n",
    "    - $s^{<t-1>}$: the previous hidden state of the post-attention LSTM \n",
    "* one_step_attention computes:\n",
    "    - $[\\alpha^{<t,1>},\\alpha^{<t,2>}, ..., \\alpha^{<t,T_x>}]$: the attention weights\n",
    "    - $context^{ \\langle t \\rangle }$: the context vector:\n",
    "    \n",
    "$$context^{<t>} = \\sum_{t' = 1}^{T_x} \\alpha^{<t,t'>}a^{<t'>}\\tag{1}$$ \n",
    "\n",
    "##### Clarifying 'context' and 'c'\n",
    "- We are calling the context $context^{\\langle t \\rangle}$.\n",
    "    - This is to avoid confusion with the post-attention LSTM's internal memory cell variable, which is also denoted $c^{\\langle t \\rangle}$."
   ]
  },
  {
   "cell_type": "code",
   "execution_count": 17,
   "id": "ab8f07ba-d19b-4b94-9a56-e8717dc38aad",
   "metadata": {},
   "outputs": [],
   "source": [
    "repeator=RepeatVector(Tx)\n",
    "concatenator=Concatenate(axis=-1)\n",
    "densor1=Dense(10,activation='tanh')\n",
    "densor2=Dense(1,activation='relu')\n",
    "activator=Activation(softmax,name='attention_weights')\n",
    "dotor=Dot(axes=1)"
   ]
  },
  {
   "cell_type": "code",
   "execution_count": 18,
   "id": "112653f2-9971-41c1-9b96-814a2e0babd7",
   "metadata": {},
   "outputs": [],
   "source": [
    "\n",
    "def softmax(x, axis=1):\n",
    "    \"\"\"Softmax activation function.\n",
    "    # Arguments\n",
    "        x : Tensor.\n",
    "        axis: Integer, axis along which the softmax normalization is applied.\n",
    "    # Returns\n",
    "        Tensor, output of softmax transformation.\n",
    "    # Raises\n",
    "        ValueError: In case `dim(x) == 1`.\n",
    "    \"\"\"\n",
    "    ndim = K.ndim(x)\n",
    "    if ndim == 2:\n",
    "        return K.softmax(x)\n",
    "    elif ndim > 2:\n",
    "        e = K.exp(x - K.max(x, axis=axis, keepdims=True))\n",
    "        s = K.sum(e, axis=axis, keepdims=True)\n",
    "        return e / s\n",
    "    else:\n",
    "        raise ValueError('Cannot apply softmax to a tensor that is 1D')\n",
    "        "
   ]
  },
  {
   "cell_type": "code",
   "execution_count": 19,
   "id": "595c906b-6a16-4149-85cf-5f24fb9ff48d",
   "metadata": {},
   "outputs": [],
   "source": [
    "def one_step_attention(a, s_prev):\n",
    "    \"\"\"\n",
    "    Performs one step of attention: Outputs a context vector computed as a dot product of the attention weights\n",
    "    \"alphas\" and the hidden states \"a\" of the Bi-LSTM.\n",
    "    \n",
    "    Arguments:\n",
    "    a -- hidden state output of the Bi-LSTM, numpy-array of shape (m, Tx, 2*n_a)\n",
    "    s_prev -- previous hidden state of the (post-attention) LSTM, numpy-array of shape (m, n_s)\n",
    "    \n",
    "    Returns:\n",
    "    context -- context vector, input of the next (post-attention) LSTM cell\n",
    "    \"\"\"\n",
    "    \n",
    "    s_prev=repeator(s_prev)\n",
    "    \n",
    "    concat=concatenator([a,s_prev])\n",
    "    \n",
    "    e=densor1(concat)\n",
    "    \n",
    "    energies=densor2(e)\n",
    "    \n",
    "    alphas=activator(energies)\n",
    "    \n",
    "    context=dotor([alphas,a])\n",
    "    \n",
    "    return context"
   ]
  },
  {
   "cell_type": "markdown",
   "id": "4d939ee4-ba59-47aa-9416-c3725ae210d9",
   "metadata": {
    "id": "vcmC3WcQh3Mn"
   },
   "source": [
    "<a name='ex-2'></a>\n",
    "### Implement modelf\n",
    "\n",
    "* `modelf` first runs the input through a Bi-LSTM to get $[a^{<1>},a^{<2>}, ..., a^{<T_x>}]$. \n",
    "* Then, `modelf` calls `one_step_attention()` $T_y$ times using a `for` loop.  At each iteration of this loop:\n",
    "    - It gives the computed context vector $context^{<t>}$ to the post-attention LSTM.\n",
    "    - It runs the output of the post-attention LSTM through a dense layer with softmax activation.\n",
    "    - The softmax generates a prediction $\\hat{y}^{<t>}$.\n",
    "    \n",
    "Again, we have defined global layers that will share weights to be used in `modelf()`."
   ]
  },
  {
   "cell_type": "code",
   "execution_count": 20,
   "id": "91352b39-ba74-42fc-b67e-c5a75b9a1767",
   "metadata": {},
   "outputs": [
    {
     "name": "stderr",
     "output_type": "stream",
     "text": [
      "2023-02-02 19:28:01.707554: W tensorflow/compiler/xla/stream_executor/platform/default/dso_loader.cc:64] Could not load dynamic library 'libcuda.so.1'; dlerror: libcuda.so.1: cannot open shared object file: No such file or directory\n",
      "2023-02-02 19:28:01.707604: W tensorflow/compiler/xla/stream_executor/cuda/cuda_driver.cc:265] failed call to cuInit: UNKNOWN ERROR (303)\n",
      "2023-02-02 19:28:01.707635: I tensorflow/compiler/xla/stream_executor/cuda/cuda_diagnostics.cc:156] kernel driver does not appear to be running on this host (79ab29374931): /proc/driver/nvidia/version does not exist\n",
      "2023-02-02 19:28:01.707938: I tensorflow/core/platform/cpu_feature_guard.cc:193] This TensorFlow binary is optimized with oneAPI Deep Neural Network Library (oneDNN) to use the following CPU instructions in performance-critical operations:  AVX2 FMA\n",
      "To enable them in other operations, rebuild TensorFlow with the appropriate compiler flags.\n"
     ]
    }
   ],
   "source": [
    "n_a = 32 # number of units for the pre-attention, bi-directional LSTM's hidden state 'a'\n",
    "n_s = 64 # number of units for the post-attention LSTM's hidden state \"s\"\n",
    "\n",
    "# Please note, this is the post attention LSTM cell.  \n",
    "post_activation_LSTM_cell = LSTM(n_s, return_state = True) # Please do not modify this global variable.\n",
    "output_layer = Dense(len(machine_vocab), activation=softmax)"
   ]
  },
  {
   "cell_type": "markdown",
   "id": "7ced2423-dc60-4ec8-9abb-2398733cc7bd",
   "metadata": {
    "id": "lGkKpb1Nh3Mo"
   },
   "source": [
    "Now you can use these layers $T_y$ times in a `for` loop to generate the outputs, and their parameters will not be reinitialized. You will have to carry out the following steps: \n",
    "\n",
    "1. Propagate the input `X` into a bi-directional LSTM.\n",
    "    * [Bidirectional](https://keras.io/layers/wrappers/#bidirectional) \n",
    "    * [LSTM](https://keras.io/layers/recurrent/#lstm)\n",
    "    * Remember that we want the LSTM to return a full sequence instead of just the last hidden state.  \n",
    "    \n",
    "Sample code:\n",
    "\n",
    "```Python\n",
    "sequence_of_hidden_states = Bidirectional(LSTM(units=..., return_sequences=...))(the_input_X)\n",
    "```\n",
    "    \n",
    "2. Iterate for $t = 0, \\cdots, T_y-1$: \n",
    "    1. Call `one_step_attention()`, passing in the sequence of hidden states $[a^{\\langle 1 \\rangle},a^{\\langle 2 \\rangle}, ..., a^{ \\langle T_x \\rangle}]$ from the pre-attention bi-directional LSTM, and the previous hidden state $s^{<t-1>}$ from the post-attention LSTM to calculate the context vector $context^{<t>}$.\n",
    "    2. Give $context^{<t>}$ to the post-attention LSTM cell. \n",
    "        - Remember to pass in the previous hidden-state $s^{\\langle t-1\\rangle}$ and cell-states $c^{\\langle t-1\\rangle}$ of this LSTM \n",
    "        * This outputs the new hidden state $s^{<t>}$ and the new cell state $c^{<t>}$.  \n",
    "\n",
    "        Sample code:\n",
    "        ```Python\n",
    "        next_hidden_state, _ , next_cell_state = \n",
    "            post_activation_LSTM_cell(inputs=..., initial_state=[prev_hidden_state, prev_cell_state])\n",
    "        ```   \n",
    "        Please note that the layer is actually the \"post attention LSTM cell\".  For the purposes of passing the automatic grader, please do not modify the naming of this global variable.  This will be fixed when we deploy updates to the automatic grader.\n",
    "    3. Apply a dense, softmax layer to $s^{<t>}$, get the output.  \n",
    "        Sample code:\n",
    "        ```Python\n",
    "        output = output_layer(inputs=...)\n",
    "        ```\n",
    "    4. Save the output by adding it to the list of outputs.\n",
    "\n",
    "3. Create your Keras model instance.\n",
    "    * It should have three inputs:\n",
    "        * `X`, the one-hot encoded inputs to the model, of shape ($T_{x}, humanVocabSize)$\n",
    "        * $s^{\\langle 0 \\rangle}$, the initial hidden state of the post-attention LSTM\n",
    "        * $c^{\\langle 0 \\rangle}$, the initial cell state of the post-attention LSTM\n",
    "    * The output is the list of outputs.  \n",
    "    Sample code\n",
    "    ```Python\n",
    "    model = Model(inputs=[...,...,...], outputs=...)\n",
    "    ```"
   ]
  },
  {
   "cell_type": "code",
   "execution_count": 21,
   "id": "95d5e7b9-df02-479a-9da3-e9df385ad690",
   "metadata": {},
   "outputs": [],
   "source": [
    "def modelf(Tx, Ty, n_a, n_s, human_vocab_size, machine_vocab_size):\n",
    "    \"\"\"\n",
    "    Arguments:\n",
    "    Tx -- length of the input sequence\n",
    "    Ty -- length of the output sequence\n",
    "    n_a -- hidden state size of the Bi-LSTM\n",
    "    n_s -- hidden state size of the post-attention LSTM\n",
    "    human_vocab_size -- size of the python dictionary \"human_vocab\"\n",
    "    machine_vocab_size -- size of the python dictionary \"machine_vocab\"\n",
    "\n",
    "    Returns:\n",
    "    model -- Keras model instance\n",
    "    \"\"\"\n",
    "    X=Input(shape=(Tx,human_vocab_size))\n",
    "    s0=Input(shape=(n_s,),name='s0')\n",
    "    c0=Input(shape=(n_s,),name='c0')\n",
    "    s=s0\n",
    "    c=c0\n",
    "    \n",
    "    outputs=[]\n",
    "    \n",
    "    a=Bidirectional(LSTM(n_a,return_sequences=True))(X)\n",
    "    \n",
    "    for t in range(Ty):\n",
    "        context=one_step_attention(a,s)\n",
    "        s,_,c=post_activation_LSTM_cell(context,initial_state=[s,c])\n",
    "        out=output_layer(s)\n",
    "        \n",
    "        outputs.append(out)\n",
    "        \n",
    "    model=Model(inputs=[X,s0,c0],outputs=outputs)\n",
    "    return model"
   ]
  },
  {
   "cell_type": "code",
   "execution_count": 22,
   "id": "20012dde-5035-4934-ae1c-822303e83716",
   "metadata": {},
   "outputs": [],
   "source": [
    "model = modelf(Tx, Ty, n_a, n_s, len(human_vocab), len(machine_vocab))"
   ]
  },
  {
   "cell_type": "code",
   "execution_count": 23,
   "id": "cf2d0875-f79f-4b24-b61a-d7efe97c7bea",
   "metadata": {},
   "outputs": [
    {
     "name": "stdout",
     "output_type": "stream",
     "text": [
      "Model: \"model\"\n",
      "__________________________________________________________________________________________________\n",
      " Layer (type)                   Output Shape         Param #     Connected to                     \n",
      "==================================================================================================\n",
      " input_1 (InputLayer)           [(None, 30, 37)]     0           []                               \n",
      "                                                                                                  \n",
      " s0 (InputLayer)                [(None, 64)]         0           []                               \n",
      "                                                                                                  \n",
      " bidirectional (Bidirectional)  (None, 30, 64)       17920       ['input_1[0][0]']                \n",
      "                                                                                                  \n",
      " repeat_vector (RepeatVector)   (None, 30, 64)       0           ['s0[0][0]',                     \n",
      "                                                                  'lstm[0][0]',                   \n",
      "                                                                  'lstm[1][0]',                   \n",
      "                                                                  'lstm[2][0]',                   \n",
      "                                                                  'lstm[3][0]',                   \n",
      "                                                                  'lstm[4][0]',                   \n",
      "                                                                  'lstm[5][0]',                   \n",
      "                                                                  'lstm[6][0]',                   \n",
      "                                                                  'lstm[7][0]',                   \n",
      "                                                                  'lstm[8][0]']                   \n",
      "                                                                                                  \n",
      " concatenate (Concatenate)      (None, 30, 128)      0           ['bidirectional[0][0]',          \n",
      "                                                                  'repeat_vector[0][0]',          \n",
      "                                                                  'bidirectional[0][0]',          \n",
      "                                                                  'repeat_vector[1][0]',          \n",
      "                                                                  'bidirectional[0][0]',          \n",
      "                                                                  'repeat_vector[2][0]',          \n",
      "                                                                  'bidirectional[0][0]',          \n",
      "                                                                  'repeat_vector[3][0]',          \n",
      "                                                                  'bidirectional[0][0]',          \n",
      "                                                                  'repeat_vector[4][0]',          \n",
      "                                                                  'bidirectional[0][0]',          \n",
      "                                                                  'repeat_vector[5][0]',          \n",
      "                                                                  'bidirectional[0][0]',          \n",
      "                                                                  'repeat_vector[6][0]',          \n",
      "                                                                  'bidirectional[0][0]',          \n",
      "                                                                  'repeat_vector[7][0]',          \n",
      "                                                                  'bidirectional[0][0]',          \n",
      "                                                                  'repeat_vector[8][0]',          \n",
      "                                                                  'bidirectional[0][0]',          \n",
      "                                                                  'repeat_vector[9][0]']          \n",
      "                                                                                                  \n",
      " dense (Dense)                  (None, 30, 10)       1290        ['concatenate[0][0]',            \n",
      "                                                                  'concatenate[1][0]',            \n",
      "                                                                  'concatenate[2][0]',            \n",
      "                                                                  'concatenate[3][0]',            \n",
      "                                                                  'concatenate[4][0]',            \n",
      "                                                                  'concatenate[5][0]',            \n",
      "                                                                  'concatenate[6][0]',            \n",
      "                                                                  'concatenate[7][0]',            \n",
      "                                                                  'concatenate[8][0]',            \n",
      "                                                                  'concatenate[9][0]']            \n",
      "                                                                                                  \n",
      " dense_1 (Dense)                (None, 30, 1)        11          ['dense[0][0]',                  \n",
      "                                                                  'dense[1][0]',                  \n",
      "                                                                  'dense[2][0]',                  \n",
      "                                                                  'dense[3][0]',                  \n",
      "                                                                  'dense[4][0]',                  \n",
      "                                                                  'dense[5][0]',                  \n",
      "                                                                  'dense[6][0]',                  \n",
      "                                                                  'dense[7][0]',                  \n",
      "                                                                  'dense[8][0]',                  \n",
      "                                                                  'dense[9][0]']                  \n",
      "                                                                                                  \n",
      " attention_weights (Activation)  (None, 30, 1)       0           ['dense_1[0][0]',                \n",
      "                                                                  'dense_1[1][0]',                \n",
      "                                                                  'dense_1[2][0]',                \n",
      "                                                                  'dense_1[3][0]',                \n",
      "                                                                  'dense_1[4][0]',                \n",
      "                                                                  'dense_1[5][0]',                \n",
      "                                                                  'dense_1[6][0]',                \n",
      "                                                                  'dense_1[7][0]',                \n",
      "                                                                  'dense_1[8][0]',                \n",
      "                                                                  'dense_1[9][0]']                \n",
      "                                                                                                  \n",
      " dot (Dot)                      (None, 1, 64)        0           ['attention_weights[0][0]',      \n",
      "                                                                  'bidirectional[0][0]',          \n",
      "                                                                  'attention_weights[1][0]',      \n",
      "                                                                  'bidirectional[0][0]',          \n",
      "                                                                  'attention_weights[2][0]',      \n",
      "                                                                  'bidirectional[0][0]',          \n",
      "                                                                  'attention_weights[3][0]',      \n",
      "                                                                  'bidirectional[0][0]',          \n",
      "                                                                  'attention_weights[4][0]',      \n",
      "                                                                  'bidirectional[0][0]',          \n",
      "                                                                  'attention_weights[5][0]',      \n",
      "                                                                  'bidirectional[0][0]',          \n",
      "                                                                  'attention_weights[6][0]',      \n",
      "                                                                  'bidirectional[0][0]',          \n",
      "                                                                  'attention_weights[7][0]',      \n",
      "                                                                  'bidirectional[0][0]',          \n",
      "                                                                  'attention_weights[8][0]',      \n",
      "                                                                  'bidirectional[0][0]',          \n",
      "                                                                  'attention_weights[9][0]',      \n",
      "                                                                  'bidirectional[0][0]']          \n",
      "                                                                                                  \n",
      " c0 (InputLayer)                [(None, 64)]         0           []                               \n",
      "                                                                                                  \n",
      " lstm (LSTM)                    [(None, 64),         33024       ['dot[0][0]',                    \n",
      "                                 (None, 64),                      's0[0][0]',                     \n",
      "                                 (None, 64)]                      'c0[0][0]',                     \n",
      "                                                                  'dot[1][0]',                    \n",
      "                                                                  'lstm[0][0]',                   \n",
      "                                                                  'lstm[0][2]',                   \n",
      "                                                                  'dot[2][0]',                    \n",
      "                                                                  'lstm[1][0]',                   \n",
      "                                                                  'lstm[1][2]',                   \n",
      "                                                                  'dot[3][0]',                    \n",
      "                                                                  'lstm[2][0]',                   \n",
      "                                                                  'lstm[2][2]',                   \n",
      "                                                                  'dot[4][0]',                    \n",
      "                                                                  'lstm[3][0]',                   \n",
      "                                                                  'lstm[3][2]',                   \n",
      "                                                                  'dot[5][0]',                    \n",
      "                                                                  'lstm[4][0]',                   \n",
      "                                                                  'lstm[4][2]',                   \n",
      "                                                                  'dot[6][0]',                    \n",
      "                                                                  'lstm[5][0]',                   \n",
      "                                                                  'lstm[5][2]',                   \n",
      "                                                                  'dot[7][0]',                    \n",
      "                                                                  'lstm[6][0]',                   \n",
      "                                                                  'lstm[6][2]',                   \n",
      "                                                                  'dot[8][0]',                    \n",
      "                                                                  'lstm[7][0]',                   \n",
      "                                                                  'lstm[7][2]',                   \n",
      "                                                                  'dot[9][0]',                    \n",
      "                                                                  'lstm[8][0]',                   \n",
      "                                                                  'lstm[8][2]']                   \n",
      "                                                                                                  \n",
      " dense_2 (Dense)                (None, 11)           715         ['lstm[0][0]',                   \n",
      "                                                                  'lstm[1][0]',                   \n",
      "                                                                  'lstm[2][0]',                   \n",
      "                                                                  'lstm[3][0]',                   \n",
      "                                                                  'lstm[4][0]',                   \n",
      "                                                                  'lstm[5][0]',                   \n",
      "                                                                  'lstm[6][0]',                   \n",
      "                                                                  'lstm[7][0]',                   \n",
      "                                                                  'lstm[8][0]',                   \n",
      "                                                                  'lstm[9][0]']                   \n",
      "                                                                                                  \n",
      "==================================================================================================\n",
      "Total params: 52,960\n",
      "Trainable params: 52,960\n",
      "Non-trainable params: 0\n",
      "__________________________________________________________________________________________________\n"
     ]
    }
   ],
   "source": [
    "model.summary()"
   ]
  },
  {
   "cell_type": "code",
   "execution_count": 24,
   "id": "2e4abc20-4e5a-4404-aed8-b0ba52a47006",
   "metadata": {},
   "outputs": [],
   "source": [
    "opt = Adam(learning_rate=0.005, beta_1=0.9, beta_2=0.999)\n",
    "model.compile(optimizer=opt, loss='categorical_crossentropy', metrics=['accuracy'])"
   ]
  },
  {
   "cell_type": "code",
   "execution_count": 25,
   "id": "717d3e0e-3074-4633-acac-e27d2d75d946",
   "metadata": {},
   "outputs": [],
   "source": [
    "m=len(dataset)\n",
    "s0 = np.zeros((m, n_s))\n",
    "c0 = np.zeros((m, n_s))\n",
    "outputs = list(Yoh.swapaxes(0,1))"
   ]
  },
  {
   "cell_type": "code",
   "execution_count": 26,
   "id": "3de87cde-f151-45ee-919e-8f88f1b1abad",
   "metadata": {},
   "outputs": [
    {
     "name": "stdout",
     "output_type": "stream",
     "text": [
      "Epoch 1/10\n",
      "100/100 [==============================] - 27s 70ms/step - loss: 15.4059 - dense_2_loss: 1.0068 - dense_2_1_loss: 0.8498 - dense_2_2_loss: 1.6710 - dense_2_3_loss: 2.5771 - dense_2_4_loss: 0.6855 - dense_2_5_loss: 1.1414 - dense_2_6_loss: 2.5423 - dense_2_7_loss: 0.7803 - dense_2_8_loss: 1.6353 - dense_2_9_loss: 2.5163 - dense_2_accuracy: 0.6082 - dense_2_1_accuracy: 0.7716 - dense_2_2_accuracy: 0.3293 - dense_2_3_accuracy: 0.1002 - dense_2_4_accuracy: 0.9402 - dense_2_5_accuracy: 0.4143 - dense_2_6_accuracy: 0.0899 - dense_2_7_accuracy: 0.9442 - dense_2_8_accuracy: 0.2671 - dense_2_9_accuracy: 0.1107\n",
      "Epoch 2/10\n",
      "100/100 [==============================] - 7s 65ms/step - loss: 7.5237 - dense_2_loss: 0.1064 - dense_2_1_loss: 0.0990 - dense_2_2_loss: 0.8729 - dense_2_3_loss: 1.7364 - dense_2_4_loss: 0.0137 - dense_2_5_loss: 0.2487 - dense_2_6_loss: 1.5416 - dense_2_7_loss: 0.0116 - dense_2_8_loss: 0.9713 - dense_2_9_loss: 1.9220 - dense_2_accuracy: 0.9707 - dense_2_1_accuracy: 0.9724 - dense_2_2_accuracy: 0.6274 - dense_2_3_accuracy: 0.3986 - dense_2_4_accuracy: 0.9999 - dense_2_5_accuracy: 0.9176 - dense_2_6_accuracy: 0.4588 - dense_2_7_accuracy: 0.9998 - dense_2_8_accuracy: 0.5996 - dense_2_9_accuracy: 0.2922\n",
      "Epoch 3/10\n",
      "100/100 [==============================] - 7s 66ms/step - loss: 2.5828 - dense_2_loss: 0.0477 - dense_2_1_loss: 0.0374 - dense_2_2_loss: 0.3173 - dense_2_3_loss: 0.4204 - dense_2_4_loss: 0.0057 - dense_2_5_loss: 0.1134 - dense_2_6_loss: 0.6566 - dense_2_7_loss: 0.0088 - dense_2_8_loss: 0.5369 - dense_2_9_loss: 0.4386 - dense_2_accuracy: 0.9864 - dense_2_1_accuracy: 0.9904 - dense_2_2_accuracy: 0.8797 - dense_2_3_accuracy: 0.9010 - dense_2_4_accuracy: 1.0000 - dense_2_5_accuracy: 0.9695 - dense_2_6_accuracy: 0.8089 - dense_2_7_accuracy: 0.9999 - dense_2_8_accuracy: 0.8055 - dense_2_9_accuracy: 0.8705\n",
      "Epoch 4/10\n",
      "100/100 [==============================] - 6s 65ms/step - loss: 0.7048 - dense_2_loss: 0.0126 - dense_2_1_loss: 0.0066 - dense_2_2_loss: 0.0495 - dense_2_3_loss: 0.0686 - dense_2_4_loss: 0.0021 - dense_2_5_loss: 0.0576 - dense_2_6_loss: 0.2368 - dense_2_7_loss: 0.0032 - dense_2_8_loss: 0.2047 - dense_2_9_loss: 0.0632 - dense_2_accuracy: 0.9989 - dense_2_1_accuracy: 0.9994 - dense_2_2_accuracy: 0.9958 - dense_2_3_accuracy: 0.9963 - dense_2_4_accuracy: 1.0000 - dense_2_5_accuracy: 0.9820 - dense_2_6_accuracy: 0.9320 - dense_2_7_accuracy: 1.0000 - dense_2_8_accuracy: 0.9353 - dense_2_9_accuracy: 0.9884\n",
      "Epoch 5/10\n",
      "100/100 [==============================] - 6s 63ms/step - loss: 0.3504 - dense_2_loss: 0.0058 - dense_2_1_loss: 0.0036 - dense_2_2_loss: 0.0159 - dense_2_3_loss: 0.0290 - dense_2_4_loss: 9.4606e-04 - dense_2_5_loss: 0.0407 - dense_2_6_loss: 0.1592 - dense_2_7_loss: 0.0021 - dense_2_8_loss: 0.0698 - dense_2_9_loss: 0.0233 - dense_2_accuracy: 0.9999 - dense_2_1_accuracy: 0.9999 - dense_2_2_accuracy: 0.9986 - dense_2_3_accuracy: 0.9984 - dense_2_4_accuracy: 1.0000 - dense_2_5_accuracy: 0.9859 - dense_2_6_accuracy: 0.9495 - dense_2_7_accuracy: 1.0000 - dense_2_8_accuracy: 0.9809 - dense_2_9_accuracy: 0.9971\n",
      "Epoch 6/10\n",
      "100/100 [==============================] - 7s 67ms/step - loss: 0.2062 - dense_2_loss: 0.0031 - dense_2_1_loss: 0.0023 - dense_2_2_loss: 0.0072 - dense_2_3_loss: 0.0207 - dense_2_4_loss: 6.7086e-04 - dense_2_5_loss: 0.0290 - dense_2_6_loss: 0.1180 - dense_2_7_loss: 0.0012 - dense_2_8_loss: 0.0169 - dense_2_9_loss: 0.0071 - dense_2_accuracy: 0.9999 - dense_2_1_accuracy: 0.9999 - dense_2_2_accuracy: 0.9999 - dense_2_3_accuracy: 0.9985 - dense_2_4_accuracy: 1.0000 - dense_2_5_accuracy: 0.9894 - dense_2_6_accuracy: 0.9599 - dense_2_7_accuracy: 1.0000 - dense_2_8_accuracy: 0.9980 - dense_2_9_accuracy: 0.9997\n",
      "Epoch 7/10\n",
      "100/100 [==============================] - 6s 63ms/step - loss: 0.1588 - dense_2_loss: 0.0029 - dense_2_1_loss: 0.0021 - dense_2_2_loss: 0.0075 - dense_2_3_loss: 0.0217 - dense_2_4_loss: 8.2564e-04 - dense_2_5_loss: 0.0200 - dense_2_6_loss: 0.0863 - dense_2_7_loss: 0.0017 - dense_2_8_loss: 0.0099 - dense_2_9_loss: 0.0059 - dense_2_accuracy: 0.9999 - dense_2_1_accuracy: 0.9999 - dense_2_2_accuracy: 0.9993 - dense_2_3_accuracy: 0.9981 - dense_2_4_accuracy: 0.9999 - dense_2_5_accuracy: 0.9931 - dense_2_6_accuracy: 0.9692 - dense_2_7_accuracy: 0.9999 - dense_2_8_accuracy: 0.9993 - dense_2_9_accuracy: 0.9995\n",
      "Epoch 8/10\n",
      "100/100 [==============================] - 6s 63ms/step - loss: 0.1038 - dense_2_loss: 0.0024 - dense_2_1_loss: 0.0017 - dense_2_2_loss: 0.0040 - dense_2_3_loss: 0.0160 - dense_2_4_loss: 3.3063e-04 - dense_2_5_loss: 0.0109 - dense_2_6_loss: 0.0571 - dense_2_7_loss: 7.0837e-04 - dense_2_8_loss: 0.0075 - dense_2_9_loss: 0.0032 - dense_2_accuracy: 0.9998 - dense_2_1_accuracy: 0.9999 - dense_2_2_accuracy: 0.9999 - dense_2_3_accuracy: 0.9985 - dense_2_4_accuracy: 1.0000 - dense_2_5_accuracy: 0.9966 - dense_2_6_accuracy: 0.9814 - dense_2_7_accuracy: 1.0000 - dense_2_8_accuracy: 0.9994 - dense_2_9_accuracy: 1.0000\n",
      "Epoch 9/10\n",
      "100/100 [==============================] - 6s 64ms/step - loss: 0.0540 - dense_2_loss: 0.0020 - dense_2_1_loss: 0.0013 - dense_2_2_loss: 0.0030 - dense_2_3_loss: 0.0147 - dense_2_4_loss: 2.7576e-04 - dense_2_5_loss: 0.0054 - dense_2_6_loss: 0.0212 - dense_2_7_loss: 5.6330e-04 - dense_2_8_loss: 0.0034 - dense_2_9_loss: 0.0023 - dense_2_accuracy: 0.9997 - dense_2_1_accuracy: 0.9999 - dense_2_2_accuracy: 0.9999 - dense_2_3_accuracy: 0.9985 - dense_2_4_accuracy: 1.0000 - dense_2_5_accuracy: 0.9987 - dense_2_6_accuracy: 0.9944 - dense_2_7_accuracy: 1.0000 - dense_2_8_accuracy: 0.9999 - dense_2_9_accuracy: 0.9999\n",
      "Epoch 10/10\n",
      "100/100 [==============================] - 6s 65ms/step - loss: 0.0297 - dense_2_loss: 0.0017 - dense_2_1_loss: 0.0013 - dense_2_2_loss: 0.0026 - dense_2_3_loss: 0.0133 - dense_2_4_loss: 2.5884e-04 - dense_2_5_loss: 0.0027 - dense_2_6_loss: 0.0040 - dense_2_7_loss: 4.4029e-04 - dense_2_8_loss: 0.0020 - dense_2_9_loss: 0.0013 - dense_2_accuracy: 0.9997 - dense_2_1_accuracy: 0.9999 - dense_2_2_accuracy: 0.9998 - dense_2_3_accuracy: 0.9985 - dense_2_4_accuracy: 1.0000 - dense_2_5_accuracy: 0.9999 - dense_2_6_accuracy: 0.9999 - dense_2_7_accuracy: 1.0000 - dense_2_8_accuracy: 1.0000 - dense_2_9_accuracy: 1.0000\n"
     ]
    },
    {
     "data": {
      "text/plain": [
       "<keras.callbacks.History at 0x7fbbf1fa0220>"
      ]
     },
     "execution_count": 26,
     "metadata": {},
     "output_type": "execute_result"
    }
   ],
   "source": [
    "model.fit([Xoh, s0, c0], outputs, epochs=10, batch_size=100)"
   ]
  },
  {
   "cell_type": "code",
   "execution_count": 53,
   "id": "3a0e55ab-7b84-4528-b9f5-4cd5a3491a26",
   "metadata": {},
   "outputs": [
    {
     "name": "stdout",
     "output_type": "stream",
     "text": [
      "1/1 [==============================] - 0s 37ms/step\n",
      "Example:  3 May 1979\n",
      "Converted:  1979-05-03\n",
      "\n",
      "1/1 [==============================] - 0s 36ms/step\n",
      "Example:  5 April 09\n",
      "Converted:  2009-04-05\n",
      "\n",
      "1/1 [==============================] - 0s 35ms/step\n",
      "Example:  21th of August 2016\n",
      "Converted:  2016-08-21\n",
      "\n",
      "1/1 [==============================] - 0s 38ms/step\n",
      "Example:  Tue 10 Jul 2007\n",
      "Converted:  2007-07-10\n",
      "\n",
      "1/1 [==============================] - 0s 36ms/step\n",
      "Example:  Saturday May 9 2018\n",
      "Converted:  2018-05-09\n",
      "\n",
      "1/1 [==============================] - 0s 37ms/step\n",
      "Example:  March 3 2001\n",
      "Converted:  2001-03-03\n",
      "\n",
      "1/1 [==============================] - 0s 37ms/step\n",
      "Example:  March 3rd 2001\n",
      "Converted:  2001-03-03\n",
      "\n",
      "1/1 [==============================] - 0s 37ms/step\n",
      "Example:  1 March 2001\n",
      "Converted:  2001-03-01\n",
      "\n"
     ]
    }
   ],
   "source": [
    "EXAMPLES = ['3 May 1979', '5 April 09', '21th of August 2016', 'Tue 10 Jul 2007', 'Saturday May 9 2018', 'March 3 2001', 'March 3rd 2001', '1 March 2001']\n",
    "s00 = np.zeros((1, n_s))\n",
    "c00 = np.zeros((1, n_s))\n",
    "\n",
    "for example in EXAMPLES:\n",
    "    source=string_to_int(example,Tx,human_vocab)\n",
    "    \n",
    "    source=np.array(list(map(lambda x: to_categorical(x, num_classes=len(human_vocab)), source)))\n",
    "    source=tf.expand_dims(source,axis=0)\n",
    "    \n",
    "    prediction=model.predict([source,s00,c00])\n",
    "    \n",
    "    prediction=np.argmax(prediction,axis=-1)\n",
    "    \n",
    "    \n",
    "    output=[inv_machine_vocab[i] for i in np.squeeze(prediction)]\n",
    "    \n",
    "    print(\"Example: \",example)\n",
    "    print(\"Converted: \",''.join(output) )\n",
    "    print()"
   ]
  },
  {
   "cell_type": "code",
   "execution_count": null,
   "id": "e7cdd5ad-f71e-4800-bbd7-07ef0da8d23f",
   "metadata": {},
   "outputs": [],
   "source": []
  }
 ],
 "metadata": {
  "kernelspec": {
   "display_name": "Python 3 (ipykernel)",
   "language": "python",
   "name": "python3"
  },
  "language_info": {
   "codemirror_mode": {
    "name": "ipython",
    "version": 3
   },
   "file_extension": ".py",
   "mimetype": "text/x-python",
   "name": "python",
   "nbconvert_exporter": "python",
   "pygments_lexer": "ipython3",
   "version": "3.10.6"
  }
 },
 "nbformat": 4,
 "nbformat_minor": 5
}
